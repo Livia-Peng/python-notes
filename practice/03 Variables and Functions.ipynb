{
 "cells": [
  {
   "cell_type": "markdown",
   "id": "a78b0e48-58e2-4deb-b598-62b2a55f4734",
   "metadata": {},
   "source": [
    "### 变量与函数 Variables and Functions"
   ]
  },
  {
   "cell_type": "code",
   "execution_count": 1,
   "id": "86d09176-3fb3-400e-adc4-fd15c3c1f36e",
   "metadata": {},
   "outputs": [
    {
     "name": "stdout",
     "output_type": "stream",
     "text": [
      "5\n",
      "True\n"
     ]
    }
   ],
   "source": [
    "'''\n",
    "变量是一个名字，它所指代的是一段数据\n",
    "使用 = 来对这段数据的区域进行赋值\n",
    "新的值会覆盖掉旧的值\n",
    "新值的数据类型不必与旧值相同\n",
    "'''\n",
    "x = 5\n",
    "print(x)\n",
    "\n",
    "x = True\n",
    "print(x)"
   ]
  },
  {
   "cell_type": "code",
   "execution_count": 3,
   "id": "a18df5fc-0a79-4daa-be14-b87e9cee902a",
   "metadata": {},
   "outputs": [],
   "source": [
    "'''\n",
    "变量命名规则：\n",
    "必须以字母或下划线（_）开头\n",
    "命名可由字母、数字和下划线组成\n",
    "大小写敏感\n",
    "尽量避免使用保留字命名\n",
    "'''\n",
    "numberOfRabbits = 40\n",
    "courseIs15112 = True\n",
    "# 99problems = 0         # 会崩溃！因为变量名以数字开头"
   ]
  },
  {
   "cell_type": "code",
   "execution_count": 4,
   "id": "6ffe314c-8dba-4c0c-8815-63a66f5aa0b4",
   "metadata": {},
   "outputs": [
    {
     "data": {
      "text/plain": [
       "['False',\n",
       " 'None',\n",
       " 'True',\n",
       " 'and',\n",
       " 'as',\n",
       " 'assert',\n",
       " 'async',\n",
       " 'await',\n",
       " 'break',\n",
       " 'class',\n",
       " 'continue',\n",
       " 'def',\n",
       " 'del',\n",
       " 'elif',\n",
       " 'else',\n",
       " 'except',\n",
       " 'finally',\n",
       " 'for',\n",
       " 'from',\n",
       " 'global',\n",
       " 'if',\n",
       " 'import',\n",
       " 'in',\n",
       " 'is',\n",
       " 'lambda',\n",
       " 'nonlocal',\n",
       " 'not',\n",
       " 'or',\n",
       " 'pass',\n",
       " 'raise',\n",
       " 'return',\n",
       " 'try',\n",
       " 'while',\n",
       " 'with',\n",
       " 'yield']"
      ]
     },
     "execution_count": 4,
     "metadata": {},
     "output_type": "execute_result"
    }
   ],
   "source": [
    "# 保留字\n",
    "import keyword\n",
    "keyword.kwlist"
   ]
  },
  {
   "cell_type": "code",
   "execution_count": 5,
   "id": "3b8658d6-7804-4946-9831-32dbb5b427f1",
   "metadata": {},
   "outputs": [
    {
     "name": "stdout",
     "output_type": "stream",
     "text": [
      "a=2, b=2, c=2\n",
      "a=1, b=2, c=6\n"
     ]
    }
   ],
   "source": [
    "# 多变量赋值\n",
    "a = b = c = 2\n",
    "print(f\"a={a}, b={b}, c={c}\")\n",
    "\n",
    "a, b, c = 1, 2, 6\n",
    "print(f\"a={a}, b={b}, c={c}\")"
   ]
  },
  {
   "cell_type": "code",
   "execution_count": 7,
   "id": "c76c974f-e77e-4f44-9c71-077def68c53e",
   "metadata": {},
   "outputs": [
    {
     "name": "stdout",
     "output_type": "stream",
     "text": [
      "我在一个名叫 “double” 函数里！\n",
      "4\n"
     ]
    }
   ],
   "source": [
    "'''\n",
    "函数是一个名字，代表一串代码序列（流程、过程）\n",
    "函数由两个部分组成：header 和 body\n",
    "header 用于定义函数接口（函数 名称 与 参数）\n",
    "body 包含函数所需要执行的操作\n",
    "'''\n",
    "\n",
    "'''\n",
    "header 用于定义函数的名称和参数：\n",
    "- 当函数被调用时，参数将会作为变量被提供给函数的 body 部分\n",
    "- 可以提供多个参数（用逗号 , 分隔），也可以不提供参数（0 个）\n",
    "- header 以冒号（:）结尾，代表后面会跟着 body 部分\n",
    "'''\n",
    "def functionName(parameters):\n",
    "    pass # 函数的 body 部分，这里使用 pass 代替\n",
    "\n",
    "'''\n",
    "body 包含函数执行的语句（statement）\n",
    "- 语句需要缩进（由 Code Style Guide 决定）\n",
    "- 当语句不再缩进，函数部分结束\n",
    "- 一般会使用 return 语句，来让函数返回其结果，但不是必须的\n",
    "'''\n",
    "def double(x):\n",
    "    print(\"我在一个名叫 “double” 函数里！\")\n",
    "    return 2 * x\n",
    "print(double(2)) # 会输出 4"
   ]
  },
  {
   "cell_type": "code",
   "execution_count": 8,
   "id": "0fa36de3-88f9-46d3-af21-0272f08c862e",
   "metadata": {},
   "outputs": [
    {
     "name": "stdout",
     "output_type": "stream",
     "text": [
      "a=9, b=2, c=8\n"
     ]
    }
   ],
   "source": [
    "# 多返回值\n",
    "def Multi_Return_Values():\n",
    "    return 9, 2, 8\n",
    "    \n",
    "a, b, c = Multi_Return_Values()\n",
    "print(f\"a={a}, b={b}, c={c}\")"
   ]
  },
  {
   "cell_type": "code",
   "execution_count": 9,
   "id": "5c4c0296-bc4e-49ee-aa16-50a1c94d8a35",
   "metadata": {},
   "outputs": [
    {
     "name": "stdout",
     "output_type": "stream",
     "text": [
      "False\n",
      "42.0\n",
      "2\n"
     ]
    }
   ],
   "source": [
    "# 内置函数 Builtin Functions\n",
    "\n",
    "print(bool(0))   # 转换为布尔类型（True or False）\n",
    "\n",
    "print(float(42)) # 转换为浮点数\n",
    "\n",
    "print(int(2.8))  # 转换为一个整数（舍弃小数点）"
   ]
  },
  {
   "cell_type": "code",
   "execution_count": 10,
   "id": "6d9d1893-2fb4-47a4-a4e1-da09de1c7e5c",
   "metadata": {},
   "outputs": [
    {
     "name": "stdout",
     "output_type": "stream",
     "text": [
      "5\n",
      "3\n",
      "2\n",
      "1024\n",
      "2.35\n"
     ]
    }
   ],
   "source": [
    "# 一些基本数学函数，但不在 math 库中\n",
    "\n",
    "print(abs(-5))   # 绝对值\n",
    "print(max(2,3))  # 返回最大值\n",
    "print(min(2,3))  # 返回最小值\n",
    "print(pow(2,10))  # 次方运算，等价于 2**10\n",
    "print(round(2.354, 2)) # 取最近的一个整数（并不完全是四舍五入，二进制精度丢失）"
   ]
  },
  {
   "cell_type": "code",
   "execution_count": 13,
   "id": "ea15bfae-1580-4a7d-b4dd-92ac4d3221fa",
   "metadata": {},
   "outputs": [
    {
     "name": "stdout",
     "output_type": "stream",
     "text": [
      "106\n",
      "108\n",
      "102\n"
     ]
    }
   ],
   "source": [
    "'''变量作用域 Variable Scope'''\n",
    "\n",
    "g = 100  # 全局变量\n",
    "\n",
    "def f(x):\n",
    "    # 如果我们想要修改 g 的值，我们必须声明它是全局变量\n",
    "    # 否则 Python 会假设它是局部变量\n",
    "    global g\n",
    "    g += 1\n",
    "    return x + g\n",
    "\n",
    "print(f(5)) # 106\n",
    "print(f(6)) # 108\n",
    "print(g)    # 102"
   ]
  }
 ],
 "metadata": {
  "kernelspec": {
   "display_name": "Python 3 (ipykernel)",
   "language": "python",
   "name": "python3"
  },
  "language_info": {
   "codemirror_mode": {
    "name": "ipython",
    "version": 3
   },
   "file_extension": ".py",
   "mimetype": "text/x-python",
   "name": "python",
   "nbconvert_exporter": "python",
   "pygments_lexer": "ipython3",
   "version": "3.12.8"
  }
 },
 "nbformat": 4,
 "nbformat_minor": 5
}
