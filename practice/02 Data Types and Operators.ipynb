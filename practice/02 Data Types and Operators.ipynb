{
 "cells": [
  {
   "cell_type": "markdown",
   "id": "1e93a0ac-0779-40c3-afed-2b09efbebe86",
   "metadata": {},
   "source": [
    "### 数据类型和操作 Data Types and Operators"
   ]
  },
  {
   "cell_type": "code",
   "execution_count": 23,
   "id": "f75d52a4-331b-4c21-8821-80514edbc431",
   "metadata": {},
   "outputs": [
    {
     "name": "stdout",
     "output_type": "stream",
     "text": [
      "<class 'int'>\n",
      "<class 'float'>\n",
      "<class 'bool'>\n",
      "<class 'type'>\n"
     ]
    }
   ],
   "source": [
    "'''\n",
    "基本类型：\n",
    "- 整数 Integer（int）\n",
    "- 浮点数 Float（对应C语言中的双精度浮点型）\n",
    "- 布尔值 Boolean（bool）\n",
    "- 类型 Type（是的，“类型”也是种类型！）\n",
    "'''\n",
    "print(type(2))\n",
    "print(type(2.2))\n",
    "print(type(2 < 2.2))\n",
    "print(type(type(42)))"
   ]
  },
  {
   "cell_type": "code",
   "execution_count": 9,
   "id": "d323047b-14db-4f85-b55f-6b0f13ed2e8d",
   "metadata": {},
   "outputs": [
    {
     "name": "stdout",
     "output_type": "stream",
     "text": [
      "<class 'str'>\n",
      "<class 'list'>\n",
      "<class 'tuple'>\n",
      "<class 'set'>\n",
      "<class 'dict'>\n",
      "<class 'complex'>\n",
      "<class 'function'>\n",
      "<class 'module'>\n"
     ]
    }
   ],
   "source": [
    "'''\n",
    "字符串 String（str）\n",
    "列表 List\n",
    "元组 Tuple\n",
    "集合 Set\n",
    "字典 Dictionary（dict，或者你可以叫它 映射 map）\n",
    "复数 Complex Number（complex)\n",
    "函数 Function\n",
    "模块 Module\n",
    "'''\n",
    "print(type(\"2.2\"))       # str (string or text)\n",
    "print(type([1,2,3]))     # list\n",
    "print(type((1,2,3)))     # tuple\n",
    "print(type({1,2}))       # set\n",
    "print(type({1:42}))      # dict (dictionary or map) \n",
    "print(type(2+3j))        # complex  (complex number)\n",
    "print(type(f))           # function\n",
    "print(type(math))        # module"
   ]
  },
  {
   "cell_type": "code",
   "execution_count": 12,
   "id": "ab8a5bd3-b435-4695-a0b0-71c395658638",
   "metadata": {},
   "outputs": [
    {
     "name": "stdout",
     "output_type": "stream",
     "text": [
      "True\n",
      "False\n",
      "None\n",
      "3.141592653589793\n",
      "2.718281828459045\n",
      "6.283185307179586\n",
      "inf\n",
      "-inf\n"
     ]
    }
   ],
   "source": [
    "'''\n",
    "内置常数 Builtin Constants\n",
    "\n",
    "常量: \n",
    "True，用于表示 布尔 真\n",
    "False，用于表示 布尔 假\n",
    "None，代表 空 ，用于空值\n",
    "\n",
    "math 库中的一些数学常量:\n",
    "pi，数学常数 π = 3.141592...，精确到可用精度\n",
    "e，数学常数 e = 2.718281...，精确到可用精度\n",
    "tau，数学常数 τ = 6.283185...，精确到可用精度（其实它不常用）\n",
    "inf，浮点正无穷大，等价于 float('inf')，负无穷大使用 -math.inf\n",
    "'''\n",
    "print(True)\n",
    "print(False)\n",
    "print(None)\n",
    "print(math.pi)\n",
    "print(math.e)\n",
    "print(math.tau)\n",
    "print(math.inf)\n",
    "print(-math.inf)"
   ]
  },
  {
   "cell_type": "code",
   "execution_count": 14,
   "id": "d1bd01f1-242d-4f62-81f0-ab59e0a69822",
   "metadata": {},
   "outputs": [
    {
     "name": "stdout",
     "output_type": "stream",
     "text": [
      " 5/3  = 1.6666666666666667\n",
      " 5//3 = 1\n",
      " 6%3 = 0\n",
      " 5%3 = 2\n"
     ]
    }
   ],
   "source": [
    "'''\n",
    "内置运算符 Builtin Operators\n",
    "\n",
    "算术：+, -, *, @, /, //, **, %, - (一元算符), + (一元算符)\n",
    "关系：<, <=, >=, >, ==, !=\n",
    "赋值： +=, -=, *=, /=, //=, **=, %=\n",
    "逻辑：and, or, not\n",
    "'''\n",
    "print(\" 5/3  =\", (5 / 3))\n",
    "print(\" 5//3 =\", ( 5 // 3))  # // 整除\n",
    "print(\" 6%3 =\", ( 6 % 3))    # % 取余\n",
    "print(\" 5%3 =\", ( 5 % 3))"
   ]
  },
  {
   "cell_type": "code",
   "execution_count": 19,
   "id": "133eccf3-16c5-4c9d-b0ad-178cb535486c",
   "metadata": {},
   "outputs": [
    {
     "name": "stdout",
     "output_type": "stream",
     "text": [
      "6\n",
      "p2sp2sp2s\n",
      "5\n",
      "Datawhale\n"
     ]
    }
   ],
   "source": [
    "'''\n",
    "类型影响语义 Types Affect Semantics\n",
    "'''\n",
    "print(3 * 2)\n",
    "print(3 * \"p2s\")           # 数字乘字符\n",
    "print(3 + 2)\n",
    "print(\"Data\" + \"whale\")\n",
    "# print(3 + \"p2s\")           # 整数与字符串不能相加"
   ]
  },
  {
   "cell_type": "code",
   "execution_count": 20,
   "id": "c2810a4e-85bd-4169-98f4-8838169752ea",
   "metadata": {},
   "outputs": [
    {
     "name": "stdout",
     "output_type": "stream",
     "text": [
      "14\n",
      "6\n",
      "32\n"
     ]
    }
   ],
   "source": [
    "# 优先顺序 Precedence\n",
    "print(2+3*4)  # 14（不是 20）\n",
    "print(5+4%3)  # 6（不是 0）\n",
    "print(2**3*4) # 32（不是 4096）"
   ]
  },
  {
   "cell_type": "code",
   "execution_count": 21,
   "id": "2a4d113d-44d3-487d-ba6b-87271f3f0202",
   "metadata": {},
   "outputs": [
    {
     "name": "stdout",
     "output_type": "stream",
     "text": [
      "-2\n",
      "262144\n"
     ]
    }
   ],
   "source": [
    "# 结合律 Associativity\n",
    "print(5-4-3)   # -2（不是 4）\n",
    "print(4**3**2) # 262144（不是 4096）"
   ]
  },
  {
   "cell_type": "code",
   "execution_count": 22,
   "id": "a1e4fd33-da4b-4c06-9f62-1ec1fe917845",
   "metadata": {},
   "outputs": [
    {
     "name": "stdout",
     "output_type": "stream",
     "text": [
      "True\n",
      "False\n",
      "0.30000000000000004\n",
      "5.551115123125783e-17\n"
     ]
    }
   ],
   "source": [
    "# 浮点数误差\n",
    "print(0.1 + 0.1 == 0.2)        # True\n",
    "print(0.1 + 0.1 + 0.1 == 0.3)  # False!\n",
    "print(0.1 + 0.1 + 0.1)         # Why?\n",
    "print((0.1 + 0.1 + 0.1) - 0.3) # 特别小，但不是 0"
   ]
  },
  {
   "cell_type": "code",
   "execution_count": null,
   "id": "bcdda0a8-674b-4d88-9faf-5fa5d2909dcb",
   "metadata": {},
   "outputs": [],
   "source": [
    "# 短路求值 Short-Circuit Evaluation"
   ]
  }
 ],
 "metadata": {
  "kernelspec": {
   "display_name": "Python 3 (ipykernel)",
   "language": "python",
   "name": "python3"
  },
  "language_info": {
   "codemirror_mode": {
    "name": "ipython",
    "version": 3
   },
   "file_extension": ".py",
   "mimetype": "text/x-python",
   "name": "python",
   "nbconvert_exporter": "python",
   "pygments_lexer": "ipython3",
   "version": "3.12.8"
  }
 },
 "nbformat": 4,
 "nbformat_minor": 5
}
