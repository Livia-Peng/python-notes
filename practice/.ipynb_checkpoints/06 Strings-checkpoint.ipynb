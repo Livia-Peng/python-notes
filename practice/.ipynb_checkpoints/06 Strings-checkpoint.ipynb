{
 "cells": [
  {
   "cell_type": "markdown",
   "id": "be8204ad-d7bd-4e70-92a8-dbb2b70fc586",
   "metadata": {},
   "source": [
    "### 字符串 Strings"
   ]
  },
  {
   "cell_type": "code",
   "execution_count": 1,
   "id": "45a04885-0204-4e64-9fda-e5fbbde41c88",
   "metadata": {},
   "outputs": [
    {
     "name": "stdout",
     "output_type": "stream",
     "text": [
      "单引号\n",
      "双引号\n"
     ]
    }
   ],
   "source": [
    "# 单引号 ' 和双引号 \" 是最常见的两种字符串引号\n",
    "\n",
    "print('单引号')\n",
    "print(\"双引号\")"
   ]
  },
  {
   "cell_type": "code",
   "execution_count": 2,
   "id": "ec5788f1-117e-41fb-8cb0-c60ce4758870",
   "metadata": {},
   "outputs": [
    {
     "name": "stdout",
     "output_type": "stream",
     "text": [
      "聪明办法学 Python 第二版的课程简称是 'P2S'\n"
     ]
    }
   ],
   "source": [
    "# 需要两种不同的引号？为了写出这样的句子\n",
    "print(\"聪明办法学 Python 第二版的课程简称是 'P2S'\")"
   ]
  },
  {
   "cell_type": "code",
   "execution_count": 3,
   "id": "91561268-c46e-497e-a31f-82583c189b58",
   "metadata": {},
   "outputs": [
    {
     "name": "stdout",
     "output_type": "stream",
     "text": [
      "双引号：\"\n",
      "反斜线：\\\n",
      "换\n",
      "行\n",
      "这个是\t制\t表\t符\n",
      "也叫\t跳\t格\t键\n"
     ]
    }
   ],
   "source": [
    "# 转义序列\n",
    "print(\"双引号：\\\"\")\n",
    "print(\"反斜线：\\\\\")\n",
    "print(\"换\\n行\")\n",
    "print(\"这个是\\t制\\t表\\t符\\n也叫\\t跳\\t格\\t键\")"
   ]
  },
  {
   "cell_type": "code",
   "execution_count": 4,
   "id": "fd17880f-463a-48cc-914a-295d823d97ef",
   "metadata": {},
   "outputs": [
    {
     "name": "stdout",
     "output_type": "stream",
     "text": [
      "s = D\\a\"t\ta\n",
      "\n",
      "s 的长度为： 7\n"
     ]
    }
   ],
   "source": [
    "# 转义序列只作为一个字符存在\n",
    "\n",
    "s = \"D\\\\a\\\"t\\ta\"\n",
    "print(\"s =\", s)\n",
    "print(\"\\ns 的长度为：\", len(s))"
   ]
  },
  {
   "cell_type": "code",
   "execution_count": 5,
   "id": "853813a0-a458-42fc-b0e5-90a35be0ae1d",
   "metadata": {},
   "outputs": [
    {
     "name": "stdout",
     "output_type": "stream",
     "text": [
      "s1: Data\tWhale\n",
      "s2: Data        Whale\n",
      "s1: 'Data\\tWhale'\n",
      "s2: 'Data        Whale'\n"
     ]
    }
   ],
   "source": [
    "# repr() vs. print()\n",
    "s1 = \"Data\\tWhale\"\n",
    "s2 = \"Data        Whale\"\n",
    "\n",
    "print(\"s1:\", s1)\n",
    "print(\"s2:\", s2)\n",
    "\n",
    "print(\"s1:\", repr(s1))\n",
    "print(\"s2:\", repr(s2))"
   ]
  },
  {
   "cell_type": "code",
   "execution_count": 6,
   "id": "83f6f6cd-9f51-4b4b-aea3-c71ec237c72c",
   "metadata": {},
   "outputs": [
    {
     "name": "stdout",
     "output_type": "stream",
     "text": [
      "abcdefghijklmnopqrstuvwxyzABCDEFGHIJKLMNOPQRSTUVWXYZ\n",
      "abcdefghijklmnopqrstuvwxyz\n",
      "ABCDEFGHIJKLMNOPQRSTUVWXYZ\n",
      "0123456789\n",
      "!\"#$%&'()*+,-./:;<=>?@[\\]^_`{|}~\n",
      "0123456789abcdefghijklmnopqrstuvwxyzABCDEFGHIJKLMNOPQRSTUVWXYZ!\"#$%&'()*+,-./:;<=>?@[\\]^_`{|}~ \t\n",
      "\u000b",
      "\f",
      "\n",
      " \t\n",
      "\u000b",
      "\f",
      "\n",
      "' \\t\\n\\r\\x0b\\x0c'\n"
     ]
    }
   ],
   "source": [
    "# 字符串常量\n",
    "import string\n",
    "\n",
    "print(string.ascii_letters)\n",
    "print(string.ascii_lowercase)\n",
    "print(string.ascii_uppercase) \n",
    "print(string.digits)\n",
    "print(string.punctuation)\n",
    "print(string.printable)\n",
    "print(string.whitespace)\n",
    "print(repr(string.whitespace))"
   ]
  },
  {
   "cell_type": "code",
   "execution_count": 9,
   "id": "92fbf953-c9eb-4c62-bf94-e7a4dacef70d",
   "metadata": {},
   "outputs": [
    {
     "name": "stdout",
     "output_type": "stream",
     "text": [
      "abcdef\n",
      "abcabcabc\n",
      "True\n",
      "False\n",
      "False\n",
      "True\n"
     ]
    }
   ],
   "source": [
    "# 字符串的运算\n",
    "print(\"abc\" + \"def\")\n",
    "print(\"abc\" * 3)\n",
    "# print(\"abc\" + 3)  # 报错\n",
    "\n",
    "print(\"ring\" in \"strings\") # True\n",
    "print(\"wow\" in \"amazing!\") # False\n",
    "print(\"Yes\" in \"yes!\") # False\n",
    "print(\"\" in \"No way!\") # True"
   ]
  },
  {
   "cell_type": "code",
   "execution_count": 10,
   "id": "549dfd2a-6b97-46d2-b2f5-32ebcd8203eb",
   "metadata": {},
   "outputs": [
    {
     "name": "stdout",
     "output_type": "stream",
     "text": [
      "Datawhale\n",
      "D\n",
      "a\n",
      "t\n",
      "a\n"
     ]
    }
   ],
   "source": [
    "# 字符串索引和切片\n",
    "s = \"Datawhale\"\n",
    "print(s)\n",
    "print(s[0])\n",
    "print(s[1])\n",
    "print(s[2])\n",
    "print(s[3])"
   ]
  },
  {
   "cell_type": "code",
   "execution_count": 11,
   "id": "f7cef224-88f2-4bee-a9a3-cb50f18fdfb2",
   "metadata": {},
   "outputs": [
    {
     "name": "stdout",
     "output_type": "stream",
     "text": [
      "e\n"
     ]
    }
   ],
   "source": [
    "len(s)\n",
    "print(s[len(s)-1])"
   ]
  },
  {
   "cell_type": "code",
   "execution_count": 12,
   "id": "1e95acd3-2e00-4dd9-941f-9ba7856377e3",
   "metadata": {},
   "outputs": [
    {
     "name": "stdout",
     "output_type": "stream",
     "text": [
      "Datawhale\n",
      "w\n",
      "h\n",
      "a\n",
      "l\n",
      "e\n"
     ]
    }
   ],
   "source": [
    "print(s)\n",
    "print(s[-5])\n",
    "print(s[-4])\n",
    "print(s[-3])\n",
    "print(s[-2])\n",
    "print(s[-1])"
   ]
  },
  {
   "cell_type": "code",
   "execution_count": 13,
   "id": "d0c3c93a-6a3e-43e1-a8c4-b9785bc10a62",
   "metadata": {},
   "outputs": [
    {
     "name": "stdout",
     "output_type": "stream",
     "text": [
      "Data\n",
      "whale\n"
     ]
    }
   ],
   "source": [
    "print(s[0:4])\n",
    "print(s[4:9])"
   ]
  },
  {
   "cell_type": "code",
   "execution_count": 14,
   "id": "35a42257-14d2-4bce-ad47-233aa5b39587",
   "metadata": {},
   "outputs": [
    {
     "name": "stdout",
     "output_type": "stream",
     "text": [
      "Data\n",
      "whale\n",
      "Datawhale\n"
     ]
    }
   ],
   "source": [
    "#切片的默认参数\n",
    "print(s[:4])\n",
    "print(s[4:])\n",
    "print(s[:])"
   ]
  },
  {
   "cell_type": "code",
   "execution_count": 15,
   "id": "69a4d7b1-f05a-4fec-b93d-f46418f4be06",
   "metadata": {},
   "outputs": [
    {
     "name": "stdout",
     "output_type": "stream",
     "text": [
      "Daa\n",
      "aa\n"
     ]
    }
   ],
   "source": [
    "# 切片的第三个参数 step\n",
    "print(s[:9:3])\n",
    "print(s[1:4:2])"
   ]
  },
  {
   "cell_type": "code",
   "execution_count": 16,
   "id": "c0c3a904-893a-46f0-9c0d-f13b4181e6ea",
   "metadata": {},
   "outputs": [
    {
     "name": "stdout",
     "output_type": "stream",
     "text": [
      "elahwataD\n"
     ]
    }
   ],
   "source": [
    "# 翻转字符串\n",
    "print(s[::-1])"
   ]
  },
  {
   "cell_type": "code",
   "execution_count": 17,
   "id": "71b99cbd-2771-49df-9b82-2341001bb196",
   "metadata": {},
   "outputs": [
    {
     "name": "stdout",
     "output_type": "stream",
     "text": [
      "0 D\n",
      "1 a\n",
      "2 t\n",
      "3 a\n",
      "4 w\n",
      "5 h\n",
      "6 a\n",
      "7 l\n",
      "8 e\n",
      "D\n",
      "a\n",
      "t\n",
      "a\n",
      "w\n",
      "h\n",
      "a\n",
      "l\n",
      "e\n",
      "0 D\n",
      "1 a\n",
      "2 t\n",
      "3 a\n",
      "4 w\n",
      "5 h\n",
      "6 a\n",
      "7 l\n",
      "8 e\n",
      "D e\n",
      "a l\n",
      "t a\n",
      "a h\n",
      "w w\n",
      "h a\n",
      "a t\n",
      "l a\n",
      "e D\n"
     ]
    }
   ],
   "source": [
    "# 字符串的循环\n",
    "for i in range(len(s)):\n",
    "    print(i, s[i])\n",
    "    \n",
    "for c in s:\n",
    "    print(c)\n",
    "\n",
    "for idx, c in enumerate(s):\n",
    "    print(idx, c)\n",
    "\n",
    "def reverseString(s):\n",
    "    return s[::-1]\n",
    "for a, b in zip(s, reverseString(s)): # 在一次循环中，分别从 a 和 b 里同时取出一个元素\n",
    "    print(a, b)"
   ]
  },
  {
   "cell_type": "code",
   "execution_count": 18,
   "id": "686684a9-a34a-4629-a01b-48e0ec8a7acb",
   "metadata": {},
   "outputs": [
    {
     "name": "stdout",
     "output_type": "stream",
     "text": [
      "Hi, 你的名字有 4 个字！\n",
      "65\n",
      "A\n",
      "B\n"
     ]
    }
   ],
   "source": [
    "# 内置函数\n",
    "print(\"Hi, 你的名字有 \" + str(4) + \" 个字！\")\n",
    "print(ord(\"A\"))\n",
    "print(chr(65))\n",
    "print(chr(ord(\"A\") + 1))"
   ]
  },
  {
   "cell_type": "code",
   "execution_count": 19,
   "id": "b808f9f0-cd8a-4f30-9215-f8781a09d5fd",
   "metadata": {},
   "outputs": [
    {
     "name": "stdout",
     "output_type": "stream",
     "text": [
      "  s   isalnum  isalpha  isdigit  islower  isspace  isupper\n",
      " ABCD  True     True     False    False    False    True     \n",
      " ABcd  True     True     False    False    False    False    \n",
      " abcd  True     True     False    True     False    False    \n",
      " ab12  True     False    False    True     False    False    \n",
      " 1234  True     False    True     False    False    False    \n",
      "       False    False    False    False    True     False    \n",
      " AB?!  False    False    False    False    False    True     \n"
     ]
    }
   ],
   "source": [
    "# 字符串方法\n",
    "def p(test):\n",
    "    print(\"True     \" if test else \"False    \", end=\"\")\n",
    "def printRow(s):\n",
    "    print(\" \" + s + \"  \", end=\"\")\n",
    "    p(s.isalnum())\n",
    "    p(s.isalpha())\n",
    "    p(s.isdigit())\n",
    "    p(s.islower())\n",
    "    p(s.isspace())\n",
    "    p(s.isupper())\n",
    "    print()\n",
    "def printTable():\n",
    "    print(\"  s   isalnum  isalpha  isdigit  islower  isspace  isupper\")\n",
    "    for s in \"ABCD,ABcd,abcd,ab12,1234,    ,AB?!\".split(\",\"):\n",
    "        printRow(s)\n",
    "printTable()"
   ]
  },
  {
   "cell_type": "code",
   "execution_count": 21,
   "id": "ac11f7b0-200a-409b-b16c-7c4bf67dd1c9",
   "metadata": {},
   "outputs": [
    {
     "name": "stdout",
     "output_type": "stream",
     "text": [
      "yyds yysy xswl dddd\n",
      "FBI! OPEN THE DOOR!!!\n",
      "strip() 可以将字符串首尾的空格删除\n"
     ]
    }
   ],
   "source": [
    "print(\"YYDS YYSY XSWL DDDD\".lower())\n",
    "print(\"fbi! open the door!!!\".upper())\n",
    "print(\"   strip() 可以将字符串首尾的空格删除    \".strip())"
   ]
  },
  {
   "cell_type": "code",
   "execution_count": 22,
   "id": "a0956b4f-3c0f-42a6-bff8-a63b81047b6a",
   "metadata": {},
   "outputs": [
    {
     "name": "stdout",
     "output_type": "stream",
     "text": [
      "聪明办法学 C\n",
      "3\n",
      "True\n",
      "False\n",
      "True\n",
      "False\n"
     ]
    }
   ],
   "source": [
    "print(\"聪明办法学 Python\".replace(\"Python\", \"C\"))\n",
    "print(\"This is a history test\".count(\"is\"))\n",
    "\n",
    "print(\"Dogs and cats!\".startswith(\"Do\"))\n",
    "print(\"Dogs and cats!\".startswith(\"Don't\"))\n",
    "print(\"Dogs and cats!\".endswith(\"!\"))\n",
    "print(\"Dogs and cats!\".endswith(\"rats!\"))"
   ]
  },
  {
   "cell_type": "code",
   "execution_count": 26,
   "id": "5af6c824-c44d-43c0-a299-9ae72d77be37",
   "metadata": {},
   "outputs": [
    {
     "name": "stdout",
     "output_type": "stream",
     "text": [
      "5\n",
      "-1\n",
      "5\n"
     ]
    }
   ],
   "source": [
    "print(\"Dogs and cats!\".find(\"and\"))\n",
    "print(\"Dogs and cats!\".find(\"or\"))\n",
    "\n",
    "print(\"Dogs and cats!\".index(\"and\"))\n",
    "# print(\"Dogs and cats!\".index(\"or\")) # 找不到会报错"
   ]
  },
  {
   "cell_type": "code",
   "execution_count": 27,
   "id": "c7bf28d8-d1f0-4d92-ae2d-68f76b2d22cd",
   "metadata": {},
   "outputs": [
    {
     "name": "stdout",
     "output_type": "stream",
     "text": [
      "你知道 42 + 99 是 141 吗？\n"
     ]
    }
   ],
   "source": [
    "# 用 f-string 格式化字符串\n",
    "x = 42\n",
    "y = 99\n",
    "\n",
    "print(f'你知道 {x} + {y} 是 {x+y} 吗？')"
   ]
  },
  {
   "cell_type": "markdown",
   "id": "68291824-473f-4469-8434-9b6aa0e08b65",
   "metadata": {},
   "source": [
    "#### 基础文件操作"
   ]
  },
  {
   "cell_type": "code",
   "execution_count": 37,
   "id": "273ac61d-7a4f-4915-b95f-1df170f78667",
   "metadata": {},
   "outputs": [
    {
     "name": "stdout",
     "output_type": "stream",
     "text": [
      "<class '_io.TextIOWrapper'>\n"
     ]
    }
   ],
   "source": [
    "'''\n",
    "Python open() 函数用于打开一个文件，并返回文件对象，在对文件进行处理过程都需要使用到这个函数。\n",
    "\n",
    "open(file, mode) 函数主要有 file 和 mode 两个参数\n",
    "- file 为需要读写文件的路径\n",
    "- mode 为读取文件时的模式，常用的模式有以下几个：\n",
    "\n",
    "r：以字符串的形式读取文件。\n",
    "rb：以二进制的形式读取文件。\n",
    "w：写入文件。\n",
    "a：追加写入文件。\n",
    "'''\n",
    "file = open(\"chap6_demo.txt\", \"w\")\n",
    "dw_text = \"Datawhale\"\n",
    "file.write(dw_text)\n",
    "file.close()\n",
    "\n",
    "file = open('chap6_demo.txt', 'r')\n",
    "print(type(file))\n",
    "file.close()"
   ]
  },
  {
   "cell_type": "code",
   "execution_count": 33,
   "id": "2c741889-5d39-4d45-a462-126bf55570fb",
   "metadata": {},
   "outputs": [
    {
     "name": "stdout",
     "output_type": "stream",
     "text": [
      "Datawhale\n",
      "Datawhale\n"
     ]
    }
   ],
   "source": [
    "# 通过 read 方法读取整个文件\n",
    "file = open('chap6_demo.txt', 'r')\n",
    "content = file.read() # 光标会拉到最后取所有内容\n",
    "print(content)\n",
    "# 每次操作结束后，及时通过 close( ) 方法关闭文件\n",
    "file.close()\n",
    "\n",
    "# 重新打开\n",
    "file = open('chap6_demo.txt', 'r')\n",
    "# 通过 readline() 读取文件的一行\n",
    "content = file.readline() # 光标每次获取一行\n",
    "print(content)\n",
    "file.close()"
   ]
  },
  {
   "cell_type": "code",
   "execution_count": 42,
   "id": "6e1a6e02-0c15-4793-964c-866709119a74",
   "metadata": {},
   "outputs": [],
   "source": [
    "## 以 a 模式打开文件chap6_demo.txt\n",
    "file = open('chap6_demo.txt', 'a')\n",
    "## 创建需要追加的字符串变量\n",
    "content = 'Hello smart way!!!\\n'\n",
    "## 写入到 chap6_demo.txt 文件中\n",
    "file.write(content)\n",
    "## 关闭文件对象\n",
    "file.close()"
   ]
  },
  {
   "cell_type": "code",
   "execution_count": 43,
   "id": "9433659e-6555-408b-8981-04b0a6564dae",
   "metadata": {},
   "outputs": [
    {
     "name": "stdout",
     "output_type": "stream",
     "text": [
      "1003\n"
     ]
    }
   ],
   "source": [
    "Caesar_cipher = \"\"\"s = \\\"\\\"\\\"Gur Mra bs Clguba, ol Gvz Crgref\n",
    "\n",
    "Ornhgvshy vf orggre guna htyl.\n",
    "Rkcyvpvg vf orggre guna vzcyvpvg.\n",
    "Fvzcyr vf orggre guna pbzcyrk.\n",
    "Pbzcyrk vf orggre guna pbzcyvpngrq.\n",
    "Syng vf orggre guna arfgrq.\n",
    "Fcnefr vf orggre guna qrafr.\n",
    "Ernqnovyvgl pbhagf.\n",
    "Fcrpvny pnfrf nera'g fcrpvny rabhtu gb oernx gur ehyrf.\n",
    "Nygubhtu cenpgvpnyvgl orngf chevgl.\n",
    "Reebef fubhyq arire cnff fvyragyl.\n",
    "Hayrff rkcyvpvgyl fvyraprq.\n",
    "Va gur snpr bs nzovthvgl, ershfr gur grzcgngvba gb thrff.\n",
    "Gurer fubhyq or bar-- naq cersrenoyl bayl bar --boivbhf jnl gb qb vg.\n",
    "Nygubhtu gung jnl znl abg or boivbhf ng svefg hayrff lbh'er Qhgpu.\n",
    "Abj vf orggre guna arire.\n",
    "Nygubhtu arire vf bsgra orggre guna *evtug* abj.\n",
    "Vs gur vzcyrzragngvba vf uneq gb rkcynva, vg'f n onq vqrn.\n",
    "Vs gur vzcyrzragngvba vf rnfl gb rkcynva, vg znl or n tbbq vqrn.\n",
    "Anzrfcnprf ner bar ubaxvat terng vqrn -- yrg'f qb zber bs gubfr!\\\"\\\"\\\"\n",
    "\n",
    "d = {}\n",
    "for c in (65, 97):\n",
    "    for i in range(26):\n",
    "        d[chr(i+c)] = chr((i+13) % 26 + c)\n",
    "\n",
    "print(\"\".join([d.get(c, c) for c in s]))\n",
    "\"\"\"\n",
    "# with 语句，不需手动关闭 close\n",
    "with open(\"ZenOfPy.py\", \"w\", encoding=\"utf-8\") as file:\n",
    "    file.write(Caesar_cipher)\n",
    "    print(len(Caesar_cipher))"
   ]
  },
  {
   "cell_type": "code",
   "execution_count": 44,
   "id": "2bf7f293-c602-4efe-8926-a38796f0f1d1",
   "metadata": {},
   "outputs": [
    {
     "name": "stdout",
     "output_type": "stream",
     "text": [
      "The Zen of Python, by Tim Peters\n",
      "\n",
      "Beautiful is better than ugly.\n",
      "Explicit is better than implicit.\n",
      "Simple is better than complex.\n",
      "Complex is better than complicated.\n",
      "Flat is better than nested.\n",
      "Sparse is better than dense.\n",
      "Readability counts.\n",
      "Special cases aren't special enough to break the rules.\n",
      "Although practicality beats purity.\n",
      "Errors should never pass silently.\n",
      "Unless explicitly silenced.\n",
      "In the face of ambiguity, refuse the temptation to guess.\n",
      "There should be one-- and preferably only one --obvious way to do it.\n",
      "Although that way may not be obvious at first unless you're Dutch.\n",
      "Now is better than never.\n",
      "Although never is often better than *right* now.\n",
      "If the implementation is hard to explain, it's a bad idea.\n",
      "If the implementation is easy to explain, it may be a good idea.\n",
      "Namespaces are one honking great idea -- let's do more of those!\n"
     ]
    }
   ],
   "source": [
    "import ZenOfPy"
   ]
  }
 ],
 "metadata": {
  "kernelspec": {
   "display_name": "Python 3 (ipykernel)",
   "language": "python",
   "name": "python3"
  },
  "language_info": {
   "codemirror_mode": {
    "name": "ipython",
    "version": 3
   },
   "file_extension": ".py",
   "mimetype": "text/x-python",
   "name": "python",
   "nbconvert_exporter": "python",
   "pygments_lexer": "ipython3",
   "version": "3.12.8"
  }
 },
 "nbformat": 4,
 "nbformat_minor": 5
}
