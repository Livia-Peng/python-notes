{
 "cells": [
  {
   "cell_type": "markdown",
   "id": "0bff2a97-89f1-48e9-b9e1-acba92b96f21",
   "metadata": {},
   "source": [
    "### 循环 Loop"
   ]
  },
  {
   "cell_type": "code",
   "execution_count": 1,
   "id": "2741150e-b9e3-404a-b0fc-74171755d35d",
   "metadata": {},
   "outputs": [
    {
     "data": {
      "text/plain": [
       "45"
      ]
     },
     "execution_count": 1,
     "metadata": {},
     "output_type": "execute_result"
    }
   ],
   "source": [
    "'''\n",
    "for 循环\n",
    "特点：基于提供的范围，重复执行特定次数的操作\n",
    "'''\n",
    "def sumFromMToN(m, n):\n",
    "    total = 0\n",
    "    # 注意： range(x, y) 是左闭右开区间，包含 x，不包含 y\n",
    "    for x in range(m, n+1):\n",
    "        total += x\n",
    "    return total\n",
    "\n",
    "sumFromMToN(5, 10)"
   ]
  },
  {
   "cell_type": "code",
   "execution_count": null,
   "id": "bdb9fac1-cd49-41a2-b72a-0de2d8036533",
   "metadata": {},
   "outputs": [],
   "source": [
    "'''\n",
    "for x in range(n+1): range 起始范围默认为 0\n",
    "for x in range(m, n+1, k): 第三个参数为 “步长” step\n",
    "'''"
   ]
  },
  {
   "cell_type": "code",
   "execution_count": 4,
   "id": "410a6280-44c7-4d5e-b89d-86654e92ecf9",
   "metadata": {},
   "outputs": [
    {
     "name": "stdout",
     "output_type": "stream",
     "text": [
      "*****\n",
      "*****\n",
      "*****\n",
      "*****\n",
      "*****\n",
      "0 \n",
      "1 * \n",
      "2 * * \n",
      "3 * * * \n",
      "4 * * * * \n"
     ]
    }
   ],
   "source": [
    "'''循环嵌套'''\n",
    "def Stars(n, m):\n",
    "    # 输出一个 n*m 的星型矩阵图\n",
    "    for row in range(n):\n",
    "        for col in range(m):\n",
    "            print(\"*\", end=\"\")\n",
    "        print()\n",
    "Stars(5, 5)\n",
    "\n",
    "def printMysteryStarShape(n):\n",
    "    for row in range(n):\n",
    "        print(row, end=\" \")\n",
    "        for col in range(row):\n",
    "            print(\"*\", end=\" \")\n",
    "        print()\n",
    "printMysteryStarShape(5)"
   ]
  },
  {
   "cell_type": "code",
   "execution_count": 5,
   "id": "ab768e26-561d-4aee-b119-b5e870143731",
   "metadata": {},
   "outputs": [
    {
     "data": {
      "text/plain": [
       "4"
      ]
     },
     "execution_count": 5,
     "metadata": {},
     "output_type": "execute_result"
    }
   ],
   "source": [
    "'''\n",
    "while 循环\n",
    "不明确知道循环什么时候停下来\n",
    "'''\n",
    "def leftmostDigit(n):\n",
    "    n = abs(n)\n",
    "    while n >= 10:\n",
    "        n = n//10\n",
    "    return n \n",
    "leftmostDigit(46535248)"
   ]
  },
  {
   "cell_type": "code",
   "execution_count": 6,
   "id": "fb0bb699-4ef2-42fb-83b1-ae53ade164b0",
   "metadata": {},
   "outputs": [
    {
     "name": "stdout",
     "output_type": "stream",
     "text": [
      "1 2 4 5 7 "
     ]
    }
   ],
   "source": [
    "'''break 与 continue 语句'''\n",
    "for n in range(200):\n",
    "    if n % 3 == 0:\n",
    "        continue # 跳过这次循环\n",
    "    elif n == 8:\n",
    "        break # 跳出当前整个循环\n",
    "    else:\n",
    "        pass # 啥也不做，占位符（不会被运行）\n",
    "    print(n, end=\" \")"
   ]
  }
 ],
 "metadata": {
  "kernelspec": {
   "display_name": "Python 3 (ipykernel)",
   "language": "python",
   "name": "python3"
  },
  "language_info": {
   "codemirror_mode": {
    "name": "ipython",
    "version": 3
   },
   "file_extension": ".py",
   "mimetype": "text/x-python",
   "name": "python",
   "nbconvert_exporter": "python",
   "pygments_lexer": "ipython3",
   "version": "3.12.8"
  }
 },
 "nbformat": 4,
 "nbformat_minor": 5
}
