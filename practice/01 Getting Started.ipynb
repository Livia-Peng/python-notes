{
 "cells": [
  {
   "cell_type": "markdown",
   "id": "cec1884d-7fae-461d-a538-81af4adb440a",
   "metadata": {},
   "source": [
    "### Getting Started"
   ]
  },
  {
   "cell_type": "code",
   "execution_count": 1,
   "id": "e7c1ce1b-962a-4c5d-bf0f-ff9a523c825d",
   "metadata": {},
   "outputs": [
    {
     "name": "stdout",
     "output_type": "stream",
     "text": [
      "聪明办法学Python\n"
     ]
    }
   ],
   "source": [
    "print(\"聪明办法学Python\") "
   ]
  },
  {
   "cell_type": "code",
   "execution_count": 16,
   "id": "ab21dc7d-4dfb-49aa-b657-60e8346a5f75",
   "metadata": {},
   "outputs": [
    {
     "name": "stdout",
     "output_type": "stream",
     "text": [
      "人生苦短，我用 Python\n"
     ]
    }
   ],
   "source": [
    "'''\n",
    "多行注释\n",
    "Python is powerful... and fast;\n",
    "plays well with others;\n",
    "runs everywhere;\n",
    "is friendly & easy to learn;\n",
    "is Open.\n",
    "'''\n",
    "print(\"人生苦短，我用 Python\")"
   ]
  },
  {
   "cell_type": "code",
   "execution_count": 15,
   "id": "7057c1f3-ff9f-4ccd-9a10-c78f7ddcdad1",
   "metadata": {},
   "outputs": [
    {
     "name": "stdout",
     "output_type": "stream",
     "text": [
      "Data*whale\n",
      "Data whale\n",
      "Data * whale\n"
     ]
    }
   ],
   "source": [
    "print(\"Data\", end=\"*\")   # 结尾符\n",
    "print(\"whale\")\n",
    "print(\"Data\", \"whale\")   # 自动空格分隔\n",
    "print(\"Data\", \"whale\", sep=\" * \")   # 分隔符"
   ]
  },
  {
   "cell_type": "code",
   "execution_count": 8,
   "id": "ea134877-7520-4691-b13e-99466d9d2f9a",
   "metadata": {},
   "outputs": [
    {
     "name": "stdout",
     "output_type": "stream",
     "text": [
      "p2sp2s////datadatadata\n"
     ]
    }
   ],
   "source": [
    "print(\"p2s\"*2,\"data\"*3, sep=\"/\"*4)"
   ]
  },
  {
   "cell_type": "code",
   "execution_count": 31,
   "id": "1ab78b92-30fb-4677-97f4-a8b163d00042",
   "metadata": {},
   "outputs": [
    {
     "name": "stdout",
     "output_type": "stream",
     "text": [
      "一个简单的数学问题：\"1 + 2 = ?\"，答案是 3！\n"
     ]
    }
   ],
   "source": [
    "x = 1\n",
    "y = 2\n",
    "print(f\"一个简单的数学问题：\\\"{x} + {y} = ?\\\"，答案是 {x+y}！\")  # f-strings 引入变量"
   ]
  },
  {
   "cell_type": "code",
   "execution_count": 13,
   "id": "6c500579-4038-4a6c-b0bd-08f8d089ee6d",
   "metadata": {},
   "outputs": [
    {
     "name": "stdout",
     "output_type": "stream",
     "text": [
      "\n",
      "Python is powerful... and fast;\n",
      "plays well with others;\n",
      "runs everywhere;\n",
      "is friendly & easy to learn;\n",
      "is Open.\n",
      "\n"
     ]
    }
   ],
   "source": [
    "# 输出多行\n",
    "print(\"\"\"\n",
    "Python is powerful... and fast;\n",
    "plays well with others;\n",
    "runs everywhere;\n",
    "is friendly & easy to learn;\n",
    "is Open.\n",
    "\"\"\")"
   ]
  },
  {
   "cell_type": "code",
   "execution_count": 20,
   "id": "dbc24001-4303-4eb4-b3c6-f7f3d36f31ca",
   "metadata": {},
   "outputs": [
    {
     "data": {
      "text/html": [
       "\n",
       "        <iframe\n",
       "            width=\"1000\"\n",
       "            height=\"300\"\n",
       "            src=\"https://www.luogu.com.cn/problem/P1000\"\n",
       "            frameborder=\"0\"\n",
       "            allowfullscreen\n",
       "            \n",
       "        ></iframe>\n",
       "        "
      ],
      "text/plain": [
       "<IPython.lib.display.IFrame at 0x11320a720>"
      ]
     },
     "execution_count": 20,
     "metadata": {},
     "output_type": "execute_result"
    }
   ],
   "source": [
    "# 嵌入网页\n",
    "from IPython.display import IFrame\n",
    "IFrame('https://www.luogu.com.cn/problem/P1000', width=1000, height=300)"
   ]
  },
  {
   "cell_type": "code",
   "execution_count": 21,
   "id": "1ac05d47-1266-4d83-81b3-79375f9bde91",
   "metadata": {},
   "outputs": [
    {
     "ename": "SyntaxError",
     "evalue": "unterminated string literal (detected at line 2) (3098959924.py, line 2)",
     "output_type": "error",
     "traceback": [
      "  \u001b[36mCell\u001b[39m\u001b[36m \u001b[39m\u001b[32mIn[21]\u001b[39m\u001b[32m, line 2\u001b[39m\n\u001b[31m    \u001b[39m\u001b[31mprint(\"哦不！) # Error! 缺少结尾引号\u001b[39m\n          ^\n\u001b[31mSyntaxError\u001b[39m\u001b[31m:\u001b[39m unterminated string literal (detected at line 2)\n"
     ]
    }
   ],
   "source": [
    "# 语法错误（在编译时出错，Python 并没有开始运行代码）\n",
    "print(\"哦不！) # Error! 缺少结尾引号"
   ]
  },
  {
   "cell_type": "code",
   "execution_count": 22,
   "id": "7a95bdd6-24f2-41be-829b-919612cee8b3",
   "metadata": {},
   "outputs": [
    {
     "name": "stdout",
     "output_type": "stream",
     "text": [
      "2+2=5\n"
     ]
    }
   ],
   "source": [
    "# Logical Errors (Compiles and runs, but is wrong!)\n",
    "# 逻辑错误（能编译，能运行，但不是想要的结果）\n",
    "print(\"2+2=5\") # Error! 算错了！！！\n",
    "# 我们想要：4！"
   ]
  },
  {
   "cell_type": "code",
   "execution_count": 23,
   "id": "942d0d36-a901-40bd-b3c2-fd1be02d1b24",
   "metadata": {},
   "outputs": [
    {
     "name": "stdin",
     "output_type": "stream",
     "text": [
      "输入你的名字： Livia\n"
     ]
    },
    {
     "name": "stdout",
     "output_type": "stream",
     "text": [
      "あなたの名前は Livia です\n"
     ]
    }
   ],
   "source": [
    "name = input(\"输入你的名字：\")\n",
    "print(\"あなたの名前は\", name, \"です\")"
   ]
  },
  {
   "cell_type": "code",
   "execution_count": 29,
   "id": "0121c0e1-3419-4304-9661-1c51df15caf3",
   "metadata": {},
   "outputs": [
    {
     "name": "stdin",
     "output_type": "stream",
     "text": [
      " 1-2\n"
     ]
    },
    {
     "name": "stdout",
     "output_type": "stream",
     "text": [
      "a = 1, b = 2\n"
     ]
    }
   ],
   "source": [
    "# 一行多个输入值\n",
    "a, b = input().split('-')\n",
    "print(f\"a = {a}, b = {b}\")"
   ]
  },
  {
   "cell_type": "code",
   "execution_count": 38,
   "id": "b4a6e7d9-4b9c-4d00-b59c-29c4e0f41cfc",
   "metadata": {},
   "outputs": [
    {
     "name": "stdout",
     "output_type": "stream",
     "text": [
      "2432902008176640000\n",
      "3.141592653589793\n",
      "6.283185307179586\n"
     ]
    }
   ],
   "source": [
    "# 数据库 math\n",
    "import math # 使用库前要先导入！\n",
    "# 阶乘 factorial\n",
    "print(math.factorial(20))\n",
    "print(math.pi)\n",
    "print(math.tau)"
   ]
  },
  {
   "cell_type": "code",
   "execution_count": 39,
   "id": "232286f6-31be-4e09-a14a-86eae658fc8d",
   "metadata": {},
   "outputs": [
    {
     "data": {
      "text/plain": [
       "12"
      ]
     },
     "execution_count": 39,
     "metadata": {},
     "output_type": "execute_result"
    }
   ],
   "source": [
    "# gcd 最大公约数\n",
    "math.gcd(12, 36)"
   ]
  },
  {
   "cell_type": "code",
   "execution_count": 40,
   "id": "904d607a-fec8-4a59-8b88-791833df43a7",
   "metadata": {},
   "outputs": [
    {
     "data": {
      "application/vnd.jupyter.widget-view+json": {
       "model_id": "51bcd95b72b84024ac6ac550a5d46ec5",
       "version_major": 2,
       "version_minor": 0
      },
      "text/plain": [
       "interactive(children=(IntSlider(value=30, description='x', max=90, min=-30), Output()), _dom_classes=('widget-…"
      ]
     },
     "metadata": {},
     "output_type": "display_data"
    },
    {
     "data": {
      "text/plain": [
       "<function __main__.f(x)>"
      ]
     },
     "execution_count": 40,
     "metadata": {},
     "output_type": "execute_result"
    }
   ],
   "source": [
    "def f(x):\n",
    "    a = x*(math.pi/180)\n",
    "    print(math.sin(a))\n",
    "interact(f,x=30)"
   ]
  }
 ],
 "metadata": {
  "kernelspec": {
   "display_name": "Python 3 (ipykernel)",
   "language": "python",
   "name": "python3"
  },
  "language_info": {
   "codemirror_mode": {
    "name": "ipython",
    "version": 3
   },
   "file_extension": ".py",
   "mimetype": "text/x-python",
   "name": "python",
   "nbconvert_exporter": "python",
   "pygments_lexer": "ipython3",
   "version": "3.12.8"
  }
 },
 "nbformat": 4,
 "nbformat_minor": 5
}
