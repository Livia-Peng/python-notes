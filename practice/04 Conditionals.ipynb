{
 "cells": [
  {
   "cell_type": "markdown",
   "id": "4236a85c-e39c-45cb-bfd7-149570ce546e",
   "metadata": {},
   "source": [
    "### 条件 Conditionals"
   ]
  },
  {
   "cell_type": "code",
   "execution_count": 1,
   "id": "b3fc5238-c6f9-4b5c-9ddd-a4e869f83ee4",
   "metadata": {},
   "outputs": [],
   "source": [
    "'''if-elif-else 语句'''\n",
    "def f(x):\n",
    "    print(\"A\", end=\"\")\n",
    "    if x == 0:\n",
    "        print(\"B\", end=\"\")\n",
    "        print(\"C\", end=\"\")\n",
    "    elif x == 1:\n",
    "        print(\"D\", end=\"\")\n",
    "    else:\n",
    "        print(\"E\", end=\"\")\n",
    "        if x == 2:\n",
    "            print(\"F\", end=\"\")\n",
    "        else:\n",
    "            print(\"G\", end=\"\")\n",
    "    print(\"H\")"
   ]
  },
  {
   "cell_type": "code",
   "execution_count": 2,
   "id": "10ec5da9-84f8-42af-89fe-4ac06f51614d",
   "metadata": {},
   "outputs": [
    {
     "name": "stdout",
     "output_type": "stream",
     "text": [
      "ABCH\n",
      "ADH\n",
      "AEFH\n"
     ]
    }
   ],
   "source": [
    "f(0)\n",
    "f(1)\n",
    "f(2)"
   ]
  },
  {
   "cell_type": "code",
   "execution_count": 3,
   "id": "5b83cf7a-d5f7-4d25-b0d8-526141a85f2b",
   "metadata": {},
   "outputs": [
    {
     "name": "stdout",
     "output_type": "stream",
     "text": [
      "abs7(5) = 5 and abs7(-5) = 5\n"
     ]
    }
   ],
   "source": [
    "# if-else 推导式 if-else expression\n",
    "def abs7(n):\n",
    "    return n if (n >= 0) else -n\n",
    "print(\"abs7(5) =\", abs7(5), \"and abs7(-5) =\", abs7(-5))"
   ]
  }
 ],
 "metadata": {
  "kernelspec": {
   "display_name": "Python 3 (ipykernel)",
   "language": "python",
   "name": "python3"
  },
  "language_info": {
   "codemirror_mode": {
    "name": "ipython",
    "version": 3
   },
   "file_extension": ".py",
   "mimetype": "text/x-python",
   "name": "python",
   "nbconvert_exporter": "python",
   "pygments_lexer": "ipython3",
   "version": "3.12.8"
  }
 },
 "nbformat": 4,
 "nbformat_minor": 5
}
