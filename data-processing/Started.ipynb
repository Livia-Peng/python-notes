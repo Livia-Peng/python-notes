{
 "cells": [
  {
   "cell_type": "markdown",
   "id": "f85f4d8f-09e4-4b55-90ca-56e7e0feadf3",
   "metadata": {},
   "source": [
    "### 基本内容\n",
    "1. 数据收集与分类\n",
    "2. 数据解析与内容提取\n",
    "3. 数据清洗与标准化\n",
    "4. 数据存储与索引 \n",
    "5. 后续处理与验证"
   ]
  },
  {
   "cell_type": "markdown",
   "id": "de17b74c-9da2-44e5-9c31-ca15d4ae4baa",
   "metadata": {
    "jp-MarkdownHeadingCollapsed": true
   },
   "source": [
    "### 数据收集与分类\n",
    "- 目标：整理原始文件，按类型分类\n",
    "  - 创建统一文件夹（如 documents/, audio/, video/）\n",
    "  - 使用脚本自动分类（Python + os 库按扩展名分类）\n",
    "  - 记录元数据（文件名、格式、大小、创建时间）"
   ]
  },
  {
   "cell_type": "markdown",
   "id": "e714484e-019f-4833-b5f5-8a996496e674",
   "metadata": {},
   "source": [
    "### 数据解析与内容提取\n",
    "通用原则：将非文本数据（音频/视频）转为文本，提取文档中的结构化/非结构化内容"
   ]
  },
  {
   "cell_type": "markdown",
   "id": "1158b89f-ba48-4e34-8988-0f23709049e7",
   "metadata": {},
   "source": [
    "#### 1. 文档类处理"
   ]
  },
  {
   "cell_type": "markdown",
   "id": "5e4c8b4b-b915-4bf7-9681-d39c41e59694",
   "metadata": {
    "jp-MarkdownHeadingCollapsed": true
   },
   "source": [
    "##### Word\n",
    "- 使用 python-docx 提取文本和表格"
   ]
  },
  {
   "cell_type": "code",
   "execution_count": null,
   "id": "768072ad-4336-488f-8aa7-4c936449189b",
   "metadata": {},
   "outputs": [],
   "source": [
    "from docx import Document\n",
    "doc = Document(\"../files/doc.docx\")\n",
    "text = \"\\n\".join([para.text for para in doc.paragraphs])\n",
    "print(text)"
   ]
  },
  {
   "cell_type": "markdown",
   "id": "fa8600e8-c33e-4a05-8453-7314bf5cf618",
   "metadata": {
    "jp-MarkdownHeadingCollapsed": true
   },
   "source": [
    "##### Excel\n",
    "- 使用 pandas 读取数据，保存为CSV或JSON\n",
    "- 依赖 openpyxl 库"
   ]
  },
  {
   "cell_type": "code",
   "execution_count": null,
   "id": "fca162e9-80ae-4f1c-900a-62eba5322fde",
   "metadata": {},
   "outputs": [],
   "source": [
    "import pandas as pd\n",
    "df = pd.read_excel(\"../files/excel.xlsx\")\n",
    "print(df.head())"
   ]
  },
  {
   "cell_type": "markdown",
   "id": "260699fd-b9ae-4775-9e77-6beac40b394d",
   "metadata": {
    "jp-MarkdownHeadingCollapsed": true
   },
   "source": [
    "##### PDF\n",
    "- 使用 PyMuPDFLoader 来读取 PDF 文件\n",
    "    - PyMuPDFLoader 是 PDF 解析器中速度最快的一种\n",
    "    - 结果会包含 PDF 及其页面的详细元数据，并且每页返回一个文档。\n",
    "- 示例代码（文本提取）："
   ]
  },
  {
   "cell_type": "code",
   "execution_count": null,
   "id": "77b0166a-b46b-41ff-abdb-01af3ea1d881",
   "metadata": {},
   "outputs": [],
   "source": [
    "from langchain.document_loaders import PyMuPDFLoader\n",
    "\n",
    "# 创建一个 PyMuPDFLoader Class 实例，输入为待加载的 pdf 文档路径\n",
    "ploader = PyMuPDFLoader(\"../files/pumpkin_book.pdf\")\n",
    "\n",
    "# 调用 PyMuPDFLoader Class 的函数 load 对 pdf 文件进行加载\n",
    "pages = ploader.load()\n",
    "\n",
    "print(f\"载入后的变量类型为：{type(pages)}\",  f\"该 PDF 一共包含 {len(pages)} 页\", sep=\"\\n\")"
   ]
  },
  {
   "cell_type": "code",
   "execution_count": null,
   "id": "03779157-ff27-4ebd-a529-7daf6254ac04",
   "metadata": {},
   "outputs": [],
   "source": [
    "page = pages[1]\n",
    "print(f\"该元素的类型：{type(page)}.\", \n",
    "    f\"该文档的描述性数据：{page.metadata}\", \n",
    "    f\"该文档的字数: {len(page.page_content)}\", \n",
    "    f\"该文档的内容:\\n{page.page_content[0:300]}\", \n",
    "    sep=\"\\n------\\n\")"
   ]
  },
  {
   "cell_type": "markdown",
   "id": "b763167c-ddb3-466b-8fae-83f60a5a836f",
   "metadata": {
    "jp-MarkdownHeadingCollapsed": true
   },
   "source": [
    "##### Markdown\n",
    "- 使用 LangChain 提供的 UnstructuredMarkdownLoader\n",
    "- 将 Markdown 文件中的内容转换为 LangChain 的文档对象，方便后续的文本处理和分析\n",
    "- 能够识别并解析 Markdown 中的各种元素，如标题、段落、列表、链接等"
   ]
  },
  {
   "cell_type": "markdown",
   "id": "c3fe01cd-1210-4cff-94c8-ea579915fc79",
   "metadata": {},
   "source": [
    "#### 音频/视频处理"
   ]
  },
  {
   "cell_type": "markdown",
   "id": "f1f09669-d661-40ef-b31f-f82e843a7d1b",
   "metadata": {},
   "source": [
    "##### 视频预处理\n",
    "- 使用 FFmpeg 提取音频：\n",
    "```\n",
    "ffmpeg -i video.mp4 -vn -acodec libmp3lame audio.mp3\n",
    "```"
   ]
  },
  {
   "cell_type": "markdown",
   "id": "83753104-5411-488d-a0be-c3ac603dd900",
   "metadata": {
    "jp-MarkdownHeadingCollapsed": true
   },
   "source": [
    "##### 语音转文本\n",
    "- 将音视频文件直接转为 text 文件再通过代码读取\n",
    "    - ```whisper ./video.mp4 --model large --model_dir whisper-large --language zh --output_dir ./output```\n",
    "- 代码读取音频文件："
   ]
  },
  {
   "cell_type": "code",
   "execution_count": null,
   "id": "1e7eca52-b93f-4fbd-b245-089401b5359c",
   "metadata": {},
   "outputs": [],
   "source": [
    "import whisper\n",
    "model = whisper.load_model(\"base\")\n",
    "result = model.transcribe(\"../files/audio.mp3\")\n",
    "print(result[\"text\"])"
   ]
  },
  {
   "cell_type": "markdown",
   "id": "7897be3d-2fa7-4f38-b8e9-8d46a9bb894a",
   "metadata": {},
   "source": [
    "### 数据清洗与标准化"
   ]
  },
  {
   "cell_type": "code",
   "execution_count": null,
   "id": "d6896851-5cac-4a05-80d5-4f8712a8ce02",
   "metadata": {},
   "outputs": [],
   "source": []
  }
 ],
 "metadata": {
  "kernelspec": {
   "display_name": "Python 3 (ipykernel)",
   "language": "python",
   "name": "python3"
  },
  "language_info": {
   "codemirror_mode": {
    "name": "ipython",
    "version": 3
   },
   "file_extension": ".py",
   "mimetype": "text/x-python",
   "name": "python",
   "nbconvert_exporter": "python",
   "pygments_lexer": "ipython3",
   "version": "3.12.8"
  }
 },
 "nbformat": 4,
 "nbformat_minor": 5
}
