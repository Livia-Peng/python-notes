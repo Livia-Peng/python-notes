{
 "cells": [
  {
   "cell_type": "markdown",
   "id": "e6698222-279f-44aa-a907-b84e7b97130d",
   "metadata": {},
   "source": [
    "## 常见的数据清洗需求及示例"
   ]
  },
  {
   "cell_type": "markdown",
   "id": "81372ab7-482b-4066-a5ef-543595aaa7ad",
   "metadata": {},
   "source": [
    "### 文本数据清洗"
   ]
  },
  {
   "cell_type": "markdown",
   "id": "9f0a175d-b4de-427f-ac2b-282210b95289",
   "metadata": {},
   "source": [
    "#### 1. 去除空白字符"
   ]
  },
  {
   "cell_type": "code",
   "execution_count": 6,
   "id": "4ad21fae-f150-4e4d-b5ac-a0d4231dac4e",
   "metadata": {},
   "outputs": [
    {
     "data": {
      "text/plain": [
       "'数据分析 包含 重要结论'"
      ]
     },
     "execution_count": 6,
     "metadata": {},
     "output_type": "execute_result"
    }
   ],
   "source": [
    "import re\n",
    "text = \"  数据分析  \\n  包含 重要结论  \"\n",
    "re.sub(r'\\s+', ' ', text).strip()"
   ]
  },
  {
   "cell_type": "markdown",
   "id": "bfd55d6b-54c7-43fb-865e-6e08e411fde4",
   "metadata": {},
   "source": [
    "#### 2. 处理特殊字符"
   ]
  },
  {
   "cell_type": "code",
   "execution_count": 7,
   "id": "9d6cfc08-29f5-49d1-bdd2-b57ea381b4b3",
   "metadata": {},
   "outputs": [
    {
     "data": {
      "text/plain": [
       "'报告编号2024A001'"
      ]
     },
     "execution_count": 7,
     "metadata": {},
     "output_type": "execute_result"
    }
   ],
   "source": [
    "import re\n",
    "text = \"报告编号：©2024#A-001\"\n",
    "re.sub(r'[^\\w\\u4e00-\\u9fa5\\s]', '', text)"
   ]
  },
  {
   "cell_type": "markdown",
   "id": "979cbe9e-dc2b-43b8-90fa-97d98eaa1750",
   "metadata": {},
   "source": [
    "#### 3. 统一日期格式"
   ]
  },
  {
   "cell_type": "code",
   "execution_count": 13,
   "id": "fd2ce405-b0a6-4303-b914-c597ca145f75",
   "metadata": {},
   "outputs": [
    {
     "ename": "ValueError",
     "evalue": "NaTType does not support strftime",
     "output_type": "error",
     "traceback": [
      "\u001b[31m---------------------------------------------------------------------------\u001b[39m",
      "\u001b[31mValueError\u001b[39m                                Traceback (most recent call last)",
      "\u001b[36mCell\u001b[39m\u001b[36m \u001b[39m\u001b[32mIn[13]\u001b[39m\u001b[32m, line 3\u001b[39m\n\u001b[32m      1\u001b[39m \u001b[38;5;28;01mimport\u001b[39;00m\u001b[38;5;250m \u001b[39m\u001b[34;01mpandas\u001b[39;00m\u001b[38;5;250m \u001b[39m\u001b[38;5;28;01mas\u001b[39;00m\u001b[38;5;250m \u001b[39m\u001b[34;01mpd\u001b[39;00m \n\u001b[32m      2\u001b[39m date_str = \u001b[33m\"\u001b[39m\u001b[33m日期：2024-03-15 或 2024/3/5\u001b[39m\u001b[33m\"\u001b[39m\n\u001b[32m----> \u001b[39m\u001b[32m3\u001b[39m \u001b[38;5;28mprint\u001b[39m(\u001b[43mpd\u001b[49m\u001b[43m.\u001b[49m\u001b[43mto_datetime\u001b[49m\u001b[43m(\u001b[49m\u001b[43mdate_str\u001b[49m\u001b[43m,\u001b[49m\u001b[43m \u001b[49m\u001b[43merrors\u001b[49m\u001b[43m=\u001b[49m\u001b[33;43m'\u001b[39;49m\u001b[33;43mcoerce\u001b[39;49m\u001b[33;43m'\u001b[39;49m\u001b[43m)\u001b[49m\u001b[43m.\u001b[49m\u001b[43mstrftime\u001b[49m\u001b[43m(\u001b[49m\u001b[33;43m'\u001b[39;49m\u001b[33;43m%\u001b[39;49m\u001b[33;43mY-\u001b[39;49m\u001b[33;43m%\u001b[39;49m\u001b[33;43mm-\u001b[39;49m\u001b[38;5;132;43;01m%d\u001b[39;49;00m\u001b[33;43m'\u001b[39;49m\u001b[43m)\u001b[49m)\n",
      "\u001b[36mFile \u001b[39m\u001b[32mnattype.pyx:54\u001b[39m, in \u001b[36mpandas._libs.tslibs.nattype._make_error_func.f\u001b[39m\u001b[34m()\u001b[39m\n",
      "\u001b[31mValueError\u001b[39m: NaTType does not support strftime"
     ]
    }
   ],
   "source": [
    "import pandas as pd \n",
    "date_str = \"日期：2024-03-15 或 2024/3/5\"\n",
    "print(pd.to_datetime(date_str, errors='coerce').strftime('%Y-%m-%d'))"
   ]
  }
 ],
 "metadata": {
  "kernelspec": {
   "display_name": "Python 3 (ipykernel)",
   "language": "python",
   "name": "python3"
  },
  "language_info": {
   "codemirror_mode": {
    "name": "ipython",
    "version": 3
   },
   "file_extension": ".py",
   "mimetype": "text/x-python",
   "name": "python",
   "nbconvert_exporter": "python",
   "pygments_lexer": "ipython3",
   "version": "3.12.8"
  }
 },
 "nbformat": 4,
 "nbformat_minor": 5
}
