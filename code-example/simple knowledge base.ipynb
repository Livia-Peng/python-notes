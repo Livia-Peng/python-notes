{
 "cells": [
  {
   "cell_type": "code",
   "execution_count": 2,
   "id": "6f3f0167-2dd9-40d5-a7a9-0f0e6281d198",
   "metadata": {},
   "outputs": [],
   "source": [
    "from langchain_community.document_loaders import DirectoryLoader, UnstructuredFileLoader\n",
    "from langchain_text_splitters import RecursiveCharacterTextSplitter\n",
    "from langchain_community.vectorstores import FAISS\n",
    "from langchain_core.output_parsers import StrOutputParser\n",
    "from langchain_core.prompts import ChatPromptTemplate\n",
    "from langchain_core.runnables import RunnablePassthrough\n",
    "#from langchain_huggingface import HuggingFaceEmbeddings"
   ]
  },
  {
   "cell_type": "code",
   "execution_count": null,
   "id": "b8ba57b4-52cd-4546-bc40-1694d4b54afe",
   "metadata": {},
   "outputs": [],
   "source": [
    "# 1. 加载知识库文档（支持Word/PDF/TXT）\n",
    "def load_documents(file_path):\n",
    "    loader = DirectoryLoader(\n",
    "        file_path,\n",
    "        glob=\"**/*.docx\",  # 可修改为*.pdf或*.txt\n",
    "        loader_cls=UnstructuredFileLoader,\n",
    "        show_progress=True\n",
    "    )\n",
    "    return loader.load()"
   ]
  },
  {
   "cell_type": "code",
   "execution_count": null,
   "id": "e9642e6f-2fac-4216-9041-4538364ec766",
   "metadata": {},
   "outputs": [],
   "source": [
    "# 2. 文本分块处理\n",
    "def split_documents(docs):\n",
    "    text_splitter = RecursiveCharacterTextSplitter(\n",
    "        chunk_size=500,  # 根据内容调整分块大小\n",
    "        chunk_overlap=50,\n",
    "        separators=[\"\\n\\n\", \"\\n\", \"。\", \"！\", \"？\"]\n",
    "    )\n",
    "    return text_splitter.split_documents(docs)"
   ]
  },
  {
   "cell_type": "code",
   "execution_count": null,
   "id": "3b1cea5d-2879-487b-a74f-31cc820b1b5f",
   "metadata": {},
   "outputs": [],
   "source": [
    "# 3. 构建向量数据库\n",
    "def build_vector_store(chunks):\n",
    "    embeddings = HuggingFaceEmbeddings(model_name=\"BAAI/bge-small-zh-v1.5\")  # 中文向量模型\n",
    "    vector_db = FAISS.from_documents(chunks, embeddings)\n",
    "    vector_db.save_local(\"faiss_index\")  # 保存索引供后续使用\n",
    "    return vector_db"
   ]
  },
  {
   "cell_type": "code",
   "execution_count": null,
   "id": "705b643f-6508-40ba-b41e-24ae300c161c",
   "metadata": {},
   "outputs": [],
   "source": [
    "def create_qa_chain(vector_db):\n",
    "    # 使用本地大模型（需安装ollama并运行模型）\n",
    "    from langchain_community.chat_models import ChatOllama\n",
    "    llm = ChatOllama(model=\"qwen:7b\")  # 可替换为llama3/mistral等\n",
    "    \n",
    "    # 或使用OpenAI API（需API Key）\n",
    "    # from langchain_openai import ChatOpenAI\n",
    "    # llm = ChatOpenAI(model=\"gpt-3.5-turbo\")\n",
    "\n",
    "    # 提示词模板\n",
    "    prompt_template = \"\"\"\n",
    "    基于以下上下文信息回答问题：\n",
    "    {context}\n",
    "    \n",
    "    问题：{question}\n",
    "    请用中文给出专业、清晰的回答，如果无法找到答案请说明\n",
    "    \"\"\"\n",
    "    \n",
    "    # 构建检索链\n",
    "    retriever = vector_db.as_retriever(search_kwargs={\"k\": 3})  # 检索Top3相关段落\n",
    "    prompt = ChatPromptTemplate.from_template(prompt_template)\n",
    "    \n",
    "    return (\n",
    "        {\"context\": retriever, \"question\": RunnablePassthrough()}\n",
    "        | prompt\n",
    "        | llm\n",
    "        | StrOutputParser()\n",
    "    )"
   ]
  },
  {
   "cell_type": "code",
   "execution_count": null,
   "id": "c73cbbd6-e3d5-4d40-9f25-2cdba06ea49a",
   "metadata": {},
   "outputs": [],
   "source": [
    "# 主流程\n",
    "if __name__ == \"__main__\":\n",
    "    # 加载并处理文档\n",
    "    documents = load_documents(\"./knowledge_base/\")  # 知识库存放路径\n",
    "    chunks = split_documents(documents)\n",
    "    \n",
    "    # 构建/加载向量库（如果已有索引可跳过构建）\n",
    "    # vector_db = FAISS.load_local(\"faiss_index\", embeddings)\n",
    "    vector_db = build_vector_store(chunks)\n",
    "    \n",
    "    # 初始化问答链\n",
    "    qa_chain = create_qa_chain(vector_db)\n",
    "    \n",
    "    # 测试问答\n",
    "    while True:\n",
    "        question = input(\"\\n用户提问：\")\n",
    "        if question.lower() == \"exit\":\n",
    "            break\n",
    "        print(\"AI回答：\", qa_chain.invoke(question))"
   ]
  }
 ],
 "metadata": {
  "kernelspec": {
   "display_name": "Python 3 (ipykernel)",
   "language": "python",
   "name": "python3"
  },
  "language_info": {
   "codemirror_mode": {
    "name": "ipython",
    "version": 3
   },
   "file_extension": ".py",
   "mimetype": "text/x-python",
   "name": "python",
   "nbconvert_exporter": "python",
   "pygments_lexer": "ipython3",
   "version": "3.12.8"
  }
 },
 "nbformat": 4,
 "nbformat_minor": 5
}
